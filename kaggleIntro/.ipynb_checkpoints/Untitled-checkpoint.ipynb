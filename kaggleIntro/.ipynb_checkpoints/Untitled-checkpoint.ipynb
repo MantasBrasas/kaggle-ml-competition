{
 "cells": [
  {
   "cell_type": "markdown",
   "id": "0adf6ca2-d266-494c-8d42-e5f18e3e1319",
   "metadata": {},
   "source": [
    "Importing Libararies"
   ]
  },
  {
   "cell_type": "code",
   "execution_count": 1,
   "id": "b1b1765e-eb6b-449d-ad69-6caa30b79a50",
   "metadata": {},
   "outputs": [
    {
     "name": "stderr",
     "output_type": "stream",
     "text": [
      "C:\\Users\\Mantas\\AppData\\Local\\Temp\\ipykernel_15804\\2841259704.py:1: DeprecationWarning: \n",
      "Pyarrow will become a required dependency of pandas in the next major release of pandas (pandas 3.0),\n",
      "(to allow more performant data types, such as the Arrow string type, and better interoperability with other libraries)\n",
      "but was not found to be installed on your system.\n",
      "If this would cause problems for you,\n",
      "please provide us feedback at https://github.com/pandas-dev/pandas/issues/54466\n",
      "        \n",
      "  import pandas as pd\n"
     ]
    }
   ],
   "source": [
    "import pandas as pd\n",
    "from sklearn.ensemble import RandomForestRegressor\n",
    "from sklearn.metrics import mean_absolute_error\n",
    "from sklearn.model_selection import train_test_split"
   ]
  },
  {
   "cell_type": "markdown",
   "id": "481a0526-07e1-4107-8cfc-6d4bc93b89ad",
   "metadata": {},
   "source": [
    "Load data and seperate target"
   ]
  },
  {
   "cell_type": "code",
   "execution_count": 2,
   "id": "8c4ae517-8a61-49bf-9c84-654a76797a3f",
   "metadata": {},
   "outputs": [],
   "source": [
    "file_path = './train.csv'\n",
    "data = pd.read_csv(file_path)"
   ]
  },
  {
   "cell_type": "markdown",
   "id": "8c85cc1c-9a92-4554-8a89-639913898108",
   "metadata": {},
   "source": [
    "variable init"
   ]
  },
  {
   "cell_type": "code",
   "execution_count": 3,
   "id": "3d8ed7e6-7c12-4dfd-9191-9ea6063c5640",
   "metadata": {},
   "outputs": [],
   "source": [
    "features = ['LotArea', 'OverallQual', 'YearBuilt', 'YearRemodAdd', '1stFlrSF', '2ndFlrSF', 'FullBath', 'BedroomAbvGr', 'TotRmsAbvGrd']\n",
    "X = data[features]\n",
    "y = data.SalePrice\n",
    "\n",
    "trainX, validateX, trainY, validateY = train_test_split(X, y, random_state=0)"
   ]
  },
  {
   "cell_type": "markdown",
   "id": "aca77fde-9907-434f-abca-6726766a8940",
   "metadata": {},
   "source": [
    "Test model"
   ]
  },
  {
   "cell_type": "code",
   "execution_count": 4,
   "id": "4662f095-7a7c-458a-adb4-54fc2563fd4a",
   "metadata": {},
   "outputs": [
    {
     "name": "stdout",
     "output_type": "stream",
     "text": [
      "20185.36428219178\n"
     ]
    }
   ],
   "source": [
    "model = RandomForestRegressor(random_state=0)\n",
    "model.fit(trainX, trainY)\n",
    "\n",
    "predictions = model.predict(validateX)\n",
    "mae = mean_absolute_error(validateY, predictions)\n",
    "\n",
    "print(mae)"
   ]
  },
  {
   "cell_type": "markdown",
   "id": "0680834c-56fa-489e-b23b-408a86b5e4f6",
   "metadata": {},
   "source": [
    "Test on full data set"
   ]
  },
  {
   "cell_type": "code",
   "execution_count": 5,
   "id": "7d957a76-134e-483f-a008-07fbfb5799bb",
   "metadata": {},
   "outputs": [],
   "source": [
    "test_data = pd.read_csv('./test.csv')\n",
    "final_predictions = model.predict(test_data[features])"
   ]
  },
  {
   "cell_type": "markdown",
   "id": "5d25923c-dac1-48af-9b07-f72adcfb4081",
   "metadata": {},
   "source": [
    "Generate Kaggle Housing Prices Competition Submission"
   ]
  },
  {
   "cell_type": "code",
   "execution_count": 6,
   "id": "c2e23151-df36-447e-91eb-7662312bcfbc",
   "metadata": {},
   "outputs": [],
   "source": [
    "output = pd.DataFrame({'Id': test_data.Id, 'SalePrice': final_predictions})\n",
    "output.to_csv('submission.csv', index=False)"
   ]
  }
 ],
 "metadata": {
  "kernelspec": {
   "display_name": "Python 3 (ipykernel)",
   "language": "python",
   "name": "python3"
  },
  "language_info": {
   "codemirror_mode": {
    "name": "ipython",
    "version": 3
   },
   "file_extension": ".py",
   "mimetype": "text/x-python",
   "name": "python",
   "nbconvert_exporter": "python",
   "pygments_lexer": "ipython3",
   "version": "3.12.2"
  }
 },
 "nbformat": 4,
 "nbformat_minor": 5
}
