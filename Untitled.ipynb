{
 "cells": [
  {
   "cell_type": "code",
   "execution_count": null,
   "id": "b1b1765e-eb6b-449d-ad69-6caa30b79a50",
   "metadata": {},
   "outputs": [],
   "source": []
  }
 ],
 "metadata": {
  "kernelspec": {
   "display_name": "",
   "name": ""
  },
  "language_info": {
   "name": ""
  }
 },
 "nbformat": 4,
 "nbformat_minor": 5
}
