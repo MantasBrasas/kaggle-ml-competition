{
 "cells": [
  {
   "cell_type": "markdown",
   "id": "0adf6ca2-d266-494c-8d42-e5f18e3e1319",
   "metadata": {},
   "source": [
    "Importing Libararies"
   ]
  },
  {
   "cell_type": "code",
   "execution_count": 1,
   "id": "b1b1765e-eb6b-449d-ad69-6caa30b79a50",
   "metadata": {},
   "outputs": [],
   "source": [
    "import pandas as pd\n",
    "from sklearn.ensemble import RandomForestRegressor\n",
    "from sklearn.metrics import mean_absolute_error\n",
    "from sklearn.model_selection import train_test_split"
   ]
  },
  {
   "cell_type": "markdown",
   "id": "81af3758-5a41-4467-92df-b6eaece09ff4",
   "metadata": {},
   "source": [
    "Cleaning Func"
   ]
  },
  {
   "cell_type": "code",
   "execution_count": 2,
   "id": "3a93e93a-e99e-47a5-b977-d35ad6af3bbc",
   "metadata": {},
   "outputs": [],
   "source": [
    "def rm_nan(df):\n",
    "    for col in df:\n",
    "        df.fillna({col: 0}, inplace=True)\n",
    "    return df\n",
    "    \n",
    "def clean(df):\n",
    "    df.fillna({'LotFrontage': 0}, inplace=True)\n",
    "    df = df.drop(['MasVnrArea', 'GarageYrBlt'], axis=1)\n",
    "    return df\n",
    "\n",
    "def estimate_mae(trainX, validX, trainY, validY, n=100):\n",
    "    model = RandomForestRegressor(n_estimators=n, random_state=0)\n",
    "    model.fit(trainX, trainY)\n",
    "    predictions = model.predict(validX)\n",
    "    return mean_absolute_error(validY, predictions)"
   ]
  },
  {
   "cell_type": "markdown",
   "id": "481a0526-07e1-4107-8cfc-6d4bc93b89ad",
   "metadata": {},
   "source": [
    "Load data and seperate target"
   ]
  },
  {
   "cell_type": "code",
   "execution_count": 3,
   "id": "8c4ae517-8a61-49bf-9c84-654a76797a3f",
   "metadata": {},
   "outputs": [],
   "source": [
    "file_path = './train.csv'\n",
    "data = pd.read_csv(file_path)\n",
    "test_data = pd.read_csv('./test.csv')\n",
    "\n",
    "data = clean(data)\n",
    "test_data = clean(test_data)"
   ]
  },
  {
   "cell_type": "markdown",
   "id": "9f831e0f-2868-40d2-99a3-8a2ad1f5625a",
   "metadata": {},
   "source": [
    "Clean column differences"
   ]
  },
  {
   "cell_type": "code",
   "execution_count": 4,
   "id": "f2d76ca4-1af1-412c-b21b-5e943a8fceaf",
   "metadata": {},
   "outputs": [],
   "source": [
    "cols_data = data.drop('SalePrice', axis=1)\n",
    "cold_data = cols_data.columns\n",
    "cols_test = test_data.columns\n",
    "\n",
    "match_cols = [col for col in cols_test if col in cols_data]\n",
    "\n",
    "bad_cols_data = list(set(cols_data) - set(match_cols))\n",
    "bad_cols_test = list(set(cols_test) - set(match_cols))\n",
    "\n",
    "data = data.drop(bad_cols_data, axis=1)\n",
    "test_data = test_data.drop(bad_cols_test, axis=1)"
   ]
  },
  {
   "cell_type": "markdown",
   "id": "50ad9a41-efcc-45d1-b403-feaa8f432024",
   "metadata": {},
   "source": [
    "Check cardinal columns"
   ]
  },
  {
   "cell_type": "code",
   "execution_count": 5,
   "id": "2957ef89-1803-4a6e-8ffd-d3cb7b0c7382",
   "metadata": {},
   "outputs": [],
   "source": [
    "good_cols = [col for col in data.columns if data[col].dtype == 'object']\n",
    "lcols = [col for col in good_cols if data[col].nunique() < 10]\n",
    "hcols = list(set(good_cols) - set(lcols))"
   ]
  },
  {
   "cell_type": "markdown",
   "id": "d9f37363-96ef-4ad4-a71f-f38129b889d9",
   "metadata": {},
   "source": [
    "Split test data"
   ]
  },
  {
   "cell_type": "code",
   "execution_count": 6,
   "id": "7e581db6-0708-47a8-8f63-1fe21d11741e",
   "metadata": {},
   "outputs": [],
   "source": [
    "trainX, validX, trainY, validY = train_test_split(data.drop('SalePrice', axis=1), data.SalePrice, random_state=0)"
   ]
  },
  {
   "cell_type": "markdown",
   "id": "788c0dc1-9e7a-41df-a14f-2a4684e58c73",
   "metadata": {},
   "source": [
    "Naive Imputation"
   ]
  },
  {
   "cell_type": "code",
   "execution_count": 13,
   "id": "8e182e6c-50a5-4647-b0dd-d65f3127d04b",
   "metadata": {},
   "outputs": [],
   "source": [
    "from sklearn.impute import SimpleImputer\n",
    "\n",
    "IMP = SimpleImputer()\n",
    "\n",
    "imp_data = data.drop('SalePrice', axis=1)\n",
    "imp_cols = [col for col in imp_data.columns if imp_data[col].dtype != 'object']\n",
    "nimp_cols = list(set(imp_data.columns) - set(imp_cols))\n",
    "\n",
    "imp_trainX = pd.DataFrame(IMP.fit_transform(trainX[imp_cols]))\n",
    "imp_validX = pd.DataFrame(IMP.transform(validX[imp_cols]))\n",
    "\n",
    "imp_trainX.columns = trainX[imp_cols].columns\n",
    "imp_validX.columns = validX[imp_cols].columns\n",
    "\n",
    "trainX = imp_trainX.join(trainX[nimp_cols])\n",
    "validX = imp_validX.join(validX[nimp_cols])"
   ]
  },
  {
   "cell_type": "markdown",
   "id": "9c875d87-3a31-4802-a556-1240ce234db1",
   "metadata": {},
   "source": [
    "One-hot encoding"
   ]
  },
  {
   "cell_type": "code",
   "execution_count": 14,
   "id": "9ed46e41-37e4-4cdc-9fea-2bb9ef27b8a7",
   "metadata": {},
   "outputs": [],
   "source": [
    "from sklearn.preprocessing import OneHotEncoder\n",
    "\n",
    "OH = OneHotEncoder(handle_unknown='ignore', sparse_output=False)\n",
    "\n",
    "OH_cols_train = pd.DataFrame(OH.fit_transform(trainX[lcols]))\n",
    "OH_cols_valid = pd.DataFrame(OH.transform(validX[lcols]))\n",
    "\n",
    "OH_cols_train.index = trainX.index\n",
    "OH_cols_valid.index = validX.index\n",
    "\n",
    "num_X_train = trainX.drop(lcols, axis=1)\n",
    "num_X_valid = validX.drop(lcols, axis=1)\n",
    "\n",
    "OH_X_train = pd.concat([num_X_train, OH_cols_train], axis=1)\n",
    "OH_X_valid = pd.concat([num_X_valid, OH_cols_valid], axis=1)\n",
    "\n",
    "OH_X_train = OH_X_train.drop(hcols, axis=1)\n",
    "OH_X_valid = OH_X_valid.drop(hcols, axis=1)\n",
    "\n",
    "OH_X_train.columns = OH_X_train.columns.astype(str)\n",
    "OH_X_valid.columns = OH_X_valid.columns.astype(str)"
   ]
  },
  {
   "cell_type": "markdown",
   "id": "aca77fde-9907-434f-abca-6726766a8940",
   "metadata": {},
   "source": [
    "Test model"
   ]
  },
  {
   "cell_type": "code",
   "execution_count": 15,
   "id": "2fc07832-b368-4e47-b019-d9196a7db092",
   "metadata": {},
   "outputs": [
    {
     "name": "stdout",
     "output_type": "stream",
     "text": [
      "17649.415320547945\n"
     ]
    }
   ],
   "source": [
    "print(estimate_mae(OH_X_train, OH_X_valid, trainY, validY, 500))"
   ]
  },
  {
   "cell_type": "markdown",
   "id": "a8ec2033-0d00-491c-a510-f589500dc209",
   "metadata": {},
   "source": [
    "Encode test data"
   ]
  },
  {
   "cell_type": "code",
   "execution_count": 10,
   "id": "bef2a035-ca68-417a-a4f4-d9ec11593446",
   "metadata": {},
   "outputs": [
    {
     "name": "stdout",
     "output_type": "stream",
     "text": [
      "['MSZoning', 'Street', 'Alley', 'LotShape', 'LandContour', 'Utilities', 'LotConfig', 'LandSlope', 'Condition1', 'Condition2', 'BldgType', 'HouseStyle', 'RoofStyle', 'RoofMatl', 'MasVnrType', 'ExterQual', 'ExterCond', 'Foundation', 'BsmtQual', 'BsmtCond', 'BsmtExposure', 'BsmtFinType1', 'BsmtFinType2', 'Heating', 'HeatingQC', 'CentralAir', 'Electrical', 'KitchenQual', 'Functional', 'FireplaceQu', 'GarageType', 'GarageFinish', 'GarageQual', 'GarageCond', 'PavedDrive', 'PoolQC', 'Fence', 'MiscFeature', 'SaleType', 'SaleCondition']\n",
      "[]\n"
     ]
    }
   ],
   "source": [
    "OH_cols_test = pd.DataFrame(OH.transform(test_data[lcols]))\n",
    "OH_cols_test.index = test_data.index\n",
    "num_X_test = test_data.drop(lcols, axis=1)\n",
    "OH_test = pd.concat([num_X_test, OH_cols_test], axis=1)\n",
    "OH_test = OH_test.drop(hcols, axis=1)\n",
    "OH_test.columns = OH_test.columns.astype(str)"
   ]
  },
  {
   "cell_type": "markdown",
   "id": "0ff2faad-87b4-4038-b460-836b96a602d4",
   "metadata": {},
   "source": [
    "Run predictions"
   ]
  },
  {
   "cell_type": "code",
   "execution_count": 11,
   "id": "7d957a76-134e-483f-a008-07fbfb5799bb",
   "metadata": {},
   "outputs": [],
   "source": [
    "model = RandomForestRegressor(n_estimators=500, random_state=0)\n",
    "\n",
    "#print(OH_X_train.columns, OH_test.columns)\n",
    "\n",
    "model.fit(OH_X_train, trainY)\n",
    "final_predictions = model.predict(OH_test)"
   ]
  },
  {
   "cell_type": "markdown",
   "id": "5d25923c-dac1-48af-9b07-f72adcfb4081",
   "metadata": {},
   "source": [
    "Generate Kaggle Housing Prices Competition Submission"
   ]
  },
  {
   "cell_type": "code",
   "execution_count": 12,
   "id": "c2e23151-df36-447e-91eb-7662312bcfbc",
   "metadata": {},
   "outputs": [],
   "source": [
    "output = pd.DataFrame({'Id': test_data.Id, 'SalePrice': final_predictions})\n",
    "output.to_csv('submission.csv', index=False)"
   ]
  }
 ],
 "metadata": {
  "kernelspec": {
   "display_name": "Python 3 (ipykernel)",
   "language": "python",
   "name": "python3"
  },
  "language_info": {
   "codemirror_mode": {
    "name": "ipython",
    "version": 3
   },
   "file_extension": ".py",
   "mimetype": "text/x-python",
   "name": "python",
   "nbconvert_exporter": "python",
   "pygments_lexer": "ipython3",
   "version": "3.12.2"
  }
 },
 "nbformat": 4,
 "nbformat_minor": 5
}
