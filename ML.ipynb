{
 "cells": [
  {
   "cell_type": "markdown",
   "id": "0adf6ca2-d266-494c-8d42-e5f18e3e1319",
   "metadata": {},
   "source": [
    "Importing Libararies"
   ]
  },
  {
   "cell_type": "code",
   "execution_count": 24,
   "id": "b1b1765e-eb6b-449d-ad69-6caa30b79a50",
   "metadata": {},
   "outputs": [],
   "source": [
    "import pandas as pd\n",
    "from sklearn.ensemble import RandomForestRegressor\n",
    "from sklearn.metrics import mean_absolute_error\n",
    "from sklearn.model_selection import train_test_split"
   ]
  },
  {
   "cell_type": "markdown",
   "id": "481a0526-07e1-4107-8cfc-6d4bc93b89ad",
   "metadata": {},
   "source": [
    "Load data and seperate target"
   ]
  },
  {
   "cell_type": "code",
   "execution_count": 25,
   "id": "8c4ae517-8a61-49bf-9c84-654a76797a3f",
   "metadata": {},
   "outputs": [],
   "source": [
    "file_path = './train.csv'\n",
    "data = pd.read_csv(file_path)\n",
    "test_data = pd.read_csv('./test.csv')\n",
    "\n",
    "y = data.SalePrice\n",
    "data = data.drop('SalePrice', axis=1)"
   ]
  },
  {
   "cell_type": "markdown",
   "id": "d9f37363-96ef-4ad4-a71f-f38129b889d9",
   "metadata": {},
   "source": [
    "Split test data"
   ]
  },
  {
   "cell_type": "code",
   "execution_count": 26,
   "id": "7e581db6-0708-47a8-8f63-1fe21d11741e",
   "metadata": {},
   "outputs": [],
   "source": [
    "numerical_cols = [col for col in data.columns if data[col].dtype in ['int64', 'float64']]\n",
    "ordinal_cols = ['Street', 'Alley', 'LotShape', 'Utilities', 'HouseStyle', 'ExterQual', 'ExterCond', 'BsmtQual', 'BsmtCond', 'BsmtExposure',\n",
    "                'BsmtFinType1', 'BsmtFinType2', 'HeatingQC', 'CentralAir', 'KitchenQual', 'Functional', 'FireplaceQu', 'GarageFinish', \n",
    "                'GarageQual', 'GarageCond', 'PavedDrive', 'PoolQC', 'Fence']\n",
    "onehot_cols = ['MSSubClass', 'MSZoning', 'LandContour', 'LotConfig', 'LandSlope', 'Condition1', 'Condition2', 'BldgType', 'RoofStyle', 'RoofMatl',\n",
    "               'MasVnrType', 'Foundation', 'Heating', 'Electrical', 'GarageType', 'MiscFeature', 'SaleType', 'SaleCondition']\n",
    "#categorical_cols = [col for col in data.columns if data[col].nunique() < 10 and data[col].dtype == 'object']\n",
    "\n",
    "my_cols = numerical_cols + ordinal_cols + onehot_cols\n",
    "my_cols = list(set(my_cols))\n",
    "\n",
    "data = data[my_cols].copy()\n",
    "test_data = test_data[my_cols].copy()\n",
    "\n",
    "trainX, validX, trainY, validY = train_test_split(data, y, random_state=0)"
   ]
  },
  {
   "cell_type": "markdown",
   "id": "b372932d-0bf4-4df0-83b3-736734d55407",
   "metadata": {},
   "source": [
    "Pipelines"
   ]
  },
  {
   "cell_type": "code",
   "execution_count": 27,
   "id": "71c23a97-9f14-47f5-9d2c-ddfdd486570d",
   "metadata": {},
   "outputs": [
    {
     "name": "stdout",
     "output_type": "stream",
     "text": [
      "17052.46898630137\n"
     ]
    }
   ],
   "source": [
    "from sklearn.compose import ColumnTransformer\n",
    "from sklearn.pipeline import Pipeline\n",
    "from sklearn.impute import SimpleImputer\n",
    "from sklearn.preprocessing import OneHotEncoder\n",
    "from sklearn.preprocessing import OrdinalEncoder\n",
    "\n",
    "numerical_transformer = SimpleImputer(strategy='most_frequent')\n",
    "\n",
    "ordinal_transformer = Pipeline(steps=[\n",
    "    ('imputer', SimpleImputer(strategy='most_frequent')),\n",
    "    ('ordinal', OrdinalEncoder(handle_unknown='use_encoded_value', unknown_value=-1))\n",
    "])\n",
    "\n",
    "onehot_transformer = Pipeline(steps=[\n",
    "    ('imputer', SimpleImputer(strategy='most_frequent')),\n",
    "    ('onehot', OneHotEncoder(handle_unknown='ignore'))\n",
    "])\n",
    "\n",
    "preprocessor = ColumnTransformer(\n",
    "    transformers=[\n",
    "        ('num', numerical_transformer, numerical_cols),\n",
    "        ('ord', ordinal_transformer, ordinal_cols),\n",
    "        ('one', onehot_transformer, onehot_cols)\n",
    "])\n",
    "\n",
    "model = RandomForestRegressor(n_estimators=100, random_state=0)\n",
    "\n",
    "final_pipeline = Pipeline(steps = [\n",
    "    ('preprocessor', preprocessor),\n",
    "    ('model', model)\n",
    "])\n",
    "\n",
    "final_pipeline.fit(trainX, trainY)\n",
    "predictions = final_pipeline.predict(validX)\n",
    "\n",
    "print(mean_absolute_error(validY, predictions))"
   ]
  },
  {
   "cell_type": "markdown",
   "id": "0ff2faad-87b4-4038-b460-836b96a602d4",
   "metadata": {},
   "source": [
    "Run predictions"
   ]
  },
  {
   "cell_type": "code",
   "execution_count": 6,
   "id": "7d957a76-134e-483f-a008-07fbfb5799bb",
   "metadata": {},
   "outputs": [],
   "source": [
    "final_pipeline.fit(data, y)\n",
    "predictions = final_pipeline.predict(test_data)"
   ]
  },
  {
   "cell_type": "markdown",
   "id": "5d25923c-dac1-48af-9b07-f72adcfb4081",
   "metadata": {},
   "source": [
    "Generate Kaggle Housing Prices Competition Submission"
   ]
  },
  {
   "cell_type": "code",
   "execution_count": 7,
   "id": "c2e23151-df36-447e-91eb-7662312bcfbc",
   "metadata": {},
   "outputs": [],
   "source": [
    "output = pd.DataFrame({'Id': test_data.Id, 'SalePrice': predictions})\n",
    "output.to_csv('submission.csv', index=False)"
   ]
  }
 ],
 "metadata": {
  "kernelspec": {
   "display_name": "Python 3 (ipykernel)",
   "language": "python",
   "name": "python3"
  },
  "language_info": {
   "codemirror_mode": {
    "name": "ipython",
    "version": 3
   },
   "file_extension": ".py",
   "mimetype": "text/x-python",
   "name": "python",
   "nbconvert_exporter": "python",
   "pygments_lexer": "ipython3",
   "version": "3.12.2"
  }
 },
 "nbformat": 4,
 "nbformat_minor": 5
}
